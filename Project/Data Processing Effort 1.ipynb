{
 "cells": [
  {
   "cell_type": "code",
   "execution_count": 66,
   "metadata": {
    "collapsed": true
   },
   "outputs": [],
   "source": [
    "import pandas as pd\n",
    "import requests\n",
    "import numpy as np\n",
    "import statsmodels.api as sm\n",
    "from sklearn.preprocessing import StandardScaler\n",
    "from sklearn.linear_model import LinearRegression\n",
    "from sklearn.linear_model import LogisticRegression\n",
    "from sklearn.linear_model import Ridge\n",
    "from sklearn.svm import SVC\n",
    "from sklearn import svm\n",
    "from sklearn.ensemble import RandomForestClassifier\n",
    "from sklearn.neighbors import KNeighborsClassifier as KNN\n",
    "from sklearn.cross_validation import KFold\n",
    "from sklearn.metrics import confusion_matrix\n",
    "from sklearn.metrics import roc_curve, auc\n",
    "from sklearn.utils import shuffle\n",
    "import pylab\n",
    "import matplotlib.pyplot as plt\n",
    "import re\n",
    "import seaborn\n",
    "import random\n",
    "pd.set_option('display.max_columns', 500)\n",
    "%matplotlib inline"
   ]
  },
  {
   "cell_type": "code",
   "execution_count": 76,
   "metadata": {
    "collapsed": true
   },
   "outputs": [],
   "source": [
    "df1 = pd.read_csv('https://raw.githubusercontent.com/Columbia-Intro-Data-Science/python-introduction-lee-jw/master/data.csv')\n",
    "slugs = df1['slug']\n",
    "apikey = \"b1d425b38e13174991d87082772805bd5ea3a6dc\"\n",
    "url = \"https://api.trackico.io/v1/icos/profile/\""
   ]
  },
  {
   "cell_type": "code",
   "execution_count": 80,
   "metadata": {},
   "outputs": [
    {
     "name": "stdout",
     "output_type": "stream",
     "text": [
      "(u'Red Pulse', u'red-pulse', u'RPX', u'Trading', u'3.3')\n"
     ]
    },
    {
     "ename": "ValueError",
     "evalue": "No JSON object could be decoded",
     "output_type": "error",
     "traceback": [
      "\u001b[1;31m---------------------------------------------------------------------------\u001b[0m",
      "\u001b[1;31mValueError\u001b[0m                                Traceback (most recent call last)",
      "\u001b[1;32m<ipython-input-80-7f6b10ea0473>\u001b[0m in \u001b[0;36m<module>\u001b[1;34m()\u001b[0m\n\u001b[0;32m     69\u001b[0m     \u001b[1;32mreturn\u001b[0m\u001b[1;33m(\u001b[0m\u001b[0mprice\u001b[0m\u001b[1;33m)\u001b[0m\u001b[1;33m\u001b[0m\u001b[0m\n\u001b[0;32m     70\u001b[0m \u001b[1;32mprint\u001b[0m\u001b[1;33m(\u001b[0m\u001b[0mgetInfo\u001b[0m\u001b[1;33m(\u001b[0m\u001b[1;34m'red-pulse'\u001b[0m\u001b[1;33m)\u001b[0m\u001b[1;33m)\u001b[0m\u001b[1;33m\u001b[0m\u001b[0m\n\u001b[1;32m---> 71\u001b[1;33m \u001b[1;32mprint\u001b[0m\u001b[1;33m(\u001b[0m\u001b[0mgetInterests\u001b[0m\u001b[1;33m(\u001b[0m\u001b[1;34m'red-pulse'\u001b[0m\u001b[1;33m)\u001b[0m\u001b[1;33m)\u001b[0m\u001b[1;33m\u001b[0m\u001b[0m\n\u001b[0m\u001b[0;32m     72\u001b[0m \u001b[1;33m\u001b[0m\u001b[0m\n\u001b[0;32m     73\u001b[0m \u001b[1;31m#df = pd.DataFrame(columns = list(['title','slug','ticker','ico_type','platform','accepted_currencies','country','category','rating','token_for_sale','token_supply','soft_cap','soft_cap_currency','hard_cap','hard_cap_currency','token_price_in_usd','total_raised_in_usd','bonus_available','whitelist_required','kyc_required','restricted_countries','alexa_global_rank','twitter_participants','telegram_members','video_views']))\u001b[0m\u001b[1;33m\u001b[0m\u001b[1;33m\u001b[0m\u001b[0m\n",
      "\u001b[1;32m<ipython-input-80-7f6b10ea0473>\u001b[0m in \u001b[0;36mgetInterests\u001b[1;34m(slug)\u001b[0m\n\u001b[0;32m     54\u001b[0m     \u001b[0mproj_url\u001b[0m \u001b[1;33m=\u001b[0m \u001b[0murl\u001b[0m \u001b[1;33m+\u001b[0m \u001b[0mslug\u001b[0m \u001b[1;33m+\u001b[0m \u001b[1;34m\"/?apiKey=\"\u001b[0m \u001b[1;33m+\u001b[0m \u001b[0mapikey\u001b[0m\u001b[1;33m\u001b[0m\u001b[0m\n\u001b[0;32m     55\u001b[0m     \u001b[0malexa_global_rank\u001b[0m \u001b[1;33m=\u001b[0m \u001b[0mrequests\u001b[0m\u001b[1;33m.\u001b[0m\u001b[0mget\u001b[0m\u001b[1;33m(\u001b[0m\u001b[0mproj_url\u001b[0m\u001b[1;33m)\u001b[0m\u001b[1;33m.\u001b[0m\u001b[0mjson\u001b[0m\u001b[1;33m(\u001b[0m\u001b[1;33m)\u001b[0m\u001b[1;33m[\u001b[0m\u001b[1;34m\"interest\"\u001b[0m\u001b[1;33m]\u001b[0m\u001b[1;33m[\u001b[0m\u001b[1;34m\"alexa_global_rank\"\u001b[0m\u001b[1;33m]\u001b[0m\u001b[1;33m\u001b[0m\u001b[0m\n\u001b[1;32m---> 56\u001b[1;33m     \u001b[0mtwitter_participants\u001b[0m \u001b[1;33m=\u001b[0m \u001b[0mrequests\u001b[0m\u001b[1;33m.\u001b[0m\u001b[0mget\u001b[0m\u001b[1;33m(\u001b[0m\u001b[0mproj_url\u001b[0m\u001b[1;33m)\u001b[0m\u001b[1;33m.\u001b[0m\u001b[0mjson\u001b[0m\u001b[1;33m(\u001b[0m\u001b[1;33m)\u001b[0m\u001b[1;33m[\u001b[0m\u001b[1;34m\"interest\"\u001b[0m\u001b[1;33m]\u001b[0m\u001b[1;33m[\u001b[0m\u001b[1;34m\"twitter_participants\"\u001b[0m\u001b[1;33m]\u001b[0m\u001b[1;33m\u001b[0m\u001b[0m\n\u001b[0m\u001b[0;32m     57\u001b[0m     \u001b[0mtelegram_members\u001b[0m \u001b[1;33m=\u001b[0m \u001b[0mrequests\u001b[0m\u001b[1;33m.\u001b[0m\u001b[0mget\u001b[0m\u001b[1;33m(\u001b[0m\u001b[0mproj_url\u001b[0m\u001b[1;33m)\u001b[0m\u001b[1;33m.\u001b[0m\u001b[0mjson\u001b[0m\u001b[1;33m(\u001b[0m\u001b[1;33m)\u001b[0m\u001b[1;33m[\u001b[0m\u001b[1;34m\"interest\"\u001b[0m\u001b[1;33m]\u001b[0m\u001b[1;33m[\u001b[0m\u001b[1;34m\"telegram_members\"\u001b[0m\u001b[1;33m]\u001b[0m\u001b[1;33m\u001b[0m\u001b[0m\n\u001b[0;32m     58\u001b[0m     \u001b[0mvideo_views\u001b[0m \u001b[1;33m=\u001b[0m \u001b[0mrequests\u001b[0m\u001b[1;33m.\u001b[0m\u001b[0mget\u001b[0m\u001b[1;33m(\u001b[0m\u001b[0mproj_url\u001b[0m\u001b[1;33m)\u001b[0m\u001b[1;33m.\u001b[0m\u001b[0mjson\u001b[0m\u001b[1;33m(\u001b[0m\u001b[1;33m)\u001b[0m\u001b[1;33m[\u001b[0m\u001b[1;34m\"interest\"\u001b[0m\u001b[1;33m]\u001b[0m\u001b[1;33m[\u001b[0m\u001b[1;34m\"video_views\"\u001b[0m\u001b[1;33m]\u001b[0m\u001b[1;33m\u001b[0m\u001b[0m\n",
      "\u001b[1;32mC:\\Anaconda2\\lib\\site-packages\\requests\\models.pyc\u001b[0m in \u001b[0;36mjson\u001b[1;34m(self, **kwargs)\u001b[0m\n\u001b[0;32m    883\u001b[0m                     \u001b[1;31m# used.\u001b[0m\u001b[1;33m\u001b[0m\u001b[1;33m\u001b[0m\u001b[0m\n\u001b[0;32m    884\u001b[0m                     \u001b[1;32mpass\u001b[0m\u001b[1;33m\u001b[0m\u001b[0m\n\u001b[1;32m--> 885\u001b[1;33m         \u001b[1;32mreturn\u001b[0m \u001b[0mcomplexjson\u001b[0m\u001b[1;33m.\u001b[0m\u001b[0mloads\u001b[0m\u001b[1;33m(\u001b[0m\u001b[0mself\u001b[0m\u001b[1;33m.\u001b[0m\u001b[0mtext\u001b[0m\u001b[1;33m,\u001b[0m \u001b[1;33m**\u001b[0m\u001b[0mkwargs\u001b[0m\u001b[1;33m)\u001b[0m\u001b[1;33m\u001b[0m\u001b[0m\n\u001b[0m\u001b[0;32m    886\u001b[0m \u001b[1;33m\u001b[0m\u001b[0m\n\u001b[0;32m    887\u001b[0m     \u001b[1;33m@\u001b[0m\u001b[0mproperty\u001b[0m\u001b[1;33m\u001b[0m\u001b[0m\n",
      "\u001b[1;32mC:\\Anaconda2\\lib\\json\\__init__.pyc\u001b[0m in \u001b[0;36mloads\u001b[1;34m(s, encoding, cls, object_hook, parse_float, parse_int, parse_constant, object_pairs_hook, **kw)\u001b[0m\n\u001b[0;32m    337\u001b[0m             \u001b[0mparse_int\u001b[0m \u001b[1;32mis\u001b[0m \u001b[0mNone\u001b[0m \u001b[1;32mand\u001b[0m \u001b[0mparse_float\u001b[0m \u001b[1;32mis\u001b[0m \u001b[0mNone\u001b[0m \u001b[1;32mand\u001b[0m\u001b[1;33m\u001b[0m\u001b[0m\n\u001b[0;32m    338\u001b[0m             parse_constant is None and object_pairs_hook is None and not kw):\n\u001b[1;32m--> 339\u001b[1;33m         \u001b[1;32mreturn\u001b[0m \u001b[0m_default_decoder\u001b[0m\u001b[1;33m.\u001b[0m\u001b[0mdecode\u001b[0m\u001b[1;33m(\u001b[0m\u001b[0ms\u001b[0m\u001b[1;33m)\u001b[0m\u001b[1;33m\u001b[0m\u001b[0m\n\u001b[0m\u001b[0;32m    340\u001b[0m     \u001b[1;32mif\u001b[0m \u001b[0mcls\u001b[0m \u001b[1;32mis\u001b[0m \u001b[0mNone\u001b[0m\u001b[1;33m:\u001b[0m\u001b[1;33m\u001b[0m\u001b[0m\n\u001b[0;32m    341\u001b[0m         \u001b[0mcls\u001b[0m \u001b[1;33m=\u001b[0m \u001b[0mJSONDecoder\u001b[0m\u001b[1;33m\u001b[0m\u001b[0m\n",
      "\u001b[1;32mC:\\Anaconda2\\lib\\json\\decoder.pyc\u001b[0m in \u001b[0;36mdecode\u001b[1;34m(self, s, _w)\u001b[0m\n\u001b[0;32m    362\u001b[0m \u001b[1;33m\u001b[0m\u001b[0m\n\u001b[0;32m    363\u001b[0m         \"\"\"\n\u001b[1;32m--> 364\u001b[1;33m         \u001b[0mobj\u001b[0m\u001b[1;33m,\u001b[0m \u001b[0mend\u001b[0m \u001b[1;33m=\u001b[0m \u001b[0mself\u001b[0m\u001b[1;33m.\u001b[0m\u001b[0mraw_decode\u001b[0m\u001b[1;33m(\u001b[0m\u001b[0ms\u001b[0m\u001b[1;33m,\u001b[0m \u001b[0midx\u001b[0m\u001b[1;33m=\u001b[0m\u001b[0m_w\u001b[0m\u001b[1;33m(\u001b[0m\u001b[0ms\u001b[0m\u001b[1;33m,\u001b[0m \u001b[1;36m0\u001b[0m\u001b[1;33m)\u001b[0m\u001b[1;33m.\u001b[0m\u001b[0mend\u001b[0m\u001b[1;33m(\u001b[0m\u001b[1;33m)\u001b[0m\u001b[1;33m)\u001b[0m\u001b[1;33m\u001b[0m\u001b[0m\n\u001b[0m\u001b[0;32m    365\u001b[0m         \u001b[0mend\u001b[0m \u001b[1;33m=\u001b[0m \u001b[0m_w\u001b[0m\u001b[1;33m(\u001b[0m\u001b[0ms\u001b[0m\u001b[1;33m,\u001b[0m \u001b[0mend\u001b[0m\u001b[1;33m)\u001b[0m\u001b[1;33m.\u001b[0m\u001b[0mend\u001b[0m\u001b[1;33m(\u001b[0m\u001b[1;33m)\u001b[0m\u001b[1;33m\u001b[0m\u001b[0m\n\u001b[0;32m    366\u001b[0m         \u001b[1;32mif\u001b[0m \u001b[0mend\u001b[0m \u001b[1;33m!=\u001b[0m \u001b[0mlen\u001b[0m\u001b[1;33m(\u001b[0m\u001b[0ms\u001b[0m\u001b[1;33m)\u001b[0m\u001b[1;33m:\u001b[0m\u001b[1;33m\u001b[0m\u001b[0m\n",
      "\u001b[1;32mC:\\Anaconda2\\lib\\json\\decoder.pyc\u001b[0m in \u001b[0;36mraw_decode\u001b[1;34m(self, s, idx)\u001b[0m\n\u001b[0;32m    380\u001b[0m             \u001b[0mobj\u001b[0m\u001b[1;33m,\u001b[0m \u001b[0mend\u001b[0m \u001b[1;33m=\u001b[0m \u001b[0mself\u001b[0m\u001b[1;33m.\u001b[0m\u001b[0mscan_once\u001b[0m\u001b[1;33m(\u001b[0m\u001b[0ms\u001b[0m\u001b[1;33m,\u001b[0m \u001b[0midx\u001b[0m\u001b[1;33m)\u001b[0m\u001b[1;33m\u001b[0m\u001b[0m\n\u001b[0;32m    381\u001b[0m         \u001b[1;32mexcept\u001b[0m \u001b[0mStopIteration\u001b[0m\u001b[1;33m:\u001b[0m\u001b[1;33m\u001b[0m\u001b[0m\n\u001b[1;32m--> 382\u001b[1;33m             \u001b[1;32mraise\u001b[0m \u001b[0mValueError\u001b[0m\u001b[1;33m(\u001b[0m\u001b[1;34m\"No JSON object could be decoded\"\u001b[0m\u001b[1;33m)\u001b[0m\u001b[1;33m\u001b[0m\u001b[0m\n\u001b[0m\u001b[0;32m    383\u001b[0m         \u001b[1;32mreturn\u001b[0m \u001b[0mobj\u001b[0m\u001b[1;33m,\u001b[0m \u001b[0mend\u001b[0m\u001b[1;33m\u001b[0m\u001b[0m\n",
      "\u001b[1;31mValueError\u001b[0m: No JSON object could be decoded"
     ]
    }
   ],
   "source": [
    "def getInfo(slug):\n",
    "    proj_url = url + slug + \"/?apiKey=\" + apikey\n",
    "    title = requests.get(proj_url).json()[\"title\"]\n",
    "    slug = requests.get(proj_url).json()[\"slug\"]\n",
    "    ticker = requests.get(proj_url).json()[\"ticker\"]\n",
    "    ico_type = requests.get(proj_url).json()[\"ico_type\"]\n",
    "    rating = requests.get(proj_url).json()[\"rating\"]\n",
    "    return(title, slug, ticker, ico_type, rating) \n",
    "\n",
    "def getInfo2(slug):\n",
    "    proj_url = url + slug + \"/?apiKey=\" + apikey\n",
    "    platform = requests.get(proj_url).json()[\"platform\"]\n",
    "    accepted_currencies = requests.get(proj_url).json()[\"finance\"][\"accepted_currencies\"]\n",
    "    country = requests.get(proj_url).json()[\"country\"]\n",
    "    category = requests.get(proj_url).json()[\"category\"]\n",
    "    return(platform, accepted_currencies, country, category)\n",
    "\n",
    "def getMisc(slug):\n",
    "    proj_url = url + slug + \"/?apiKey=\" + apikey    \n",
    "    web_url = requests.get(proj_url).json()[\"url\"]\n",
    "    description = requests.get(proj_url).json()[\"description\"]\n",
    "    link_bitcointalk = requests.get(proj_url).json()[\"links\"][\"bitcointalk\"]    \n",
    "    return(web_url, description, link_bitcointalk)\n",
    "    \n",
    "def getDates(slug):\n",
    "    proj_url = url + slug + \"/?apiKey=\" + apikey\n",
    "    pre_ico_start = requests.get(proj_url).json()[\"pre_ico_start\"]\n",
    "    pre_ico_end = requests.get(proj_url).json()[\"pre_ico_end\"]\n",
    "    ico_start = requests.get(proj_url).json()[\"ico_start\"]\n",
    "    ico_end = requests.get(proj_url).json()[\"ico_end\"]\n",
    "    return(pre_ico_start, pre_ico_end, ico_start, ico_end)\n",
    "    \n",
    "def getFinances(slug):\n",
    "    proj_url = url + slug + \"/?apiKey=\" + apikey\n",
    "    token_for_sale = requests.get(proj_url).json()[\"finance\"][\"token_for_sale\"]\n",
    "    token_supply = requests.get(proj_url).json()[\"finance\"][\"token_supply\"]\n",
    "    soft_cap = requests.get(proj_url).json()[\"finance\"][\"soft_cap\"]\n",
    "    soft_cap_currency = requests.get(proj_url).json()[\"finance\"][\"soft_cap_currency\"]\n",
    "    hard_cap = requests.get(proj_url).json()[\"finance\"][\"hard_cap\"]\n",
    "    hard_cap_currency = requests.get(proj_url).json()[\"finance\"][\"hard_cap_currency\"]\n",
    "    token_price_in_usd = requests.get(proj_url).json()[\"finance\"][\"token_price_in_usd\"]\n",
    "    total_raised_in_usd = requests.get(proj_url).json()[\"finance\"][\"total_raised_in_usd\"]\n",
    "    bonus_available = requests.get(proj_url).json()[\"finance\"][\"bonus_available\"]\n",
    "    return(token_for_sale, token_supply, soft_cap, soft_cap_currency, hard_cap, hard_cap_currency, token_price_in_usd, total_raised_in_usd, bonus_available)\n",
    "\n",
    "def getLegal(slug):\n",
    "    proj_url = url + slug + \"/?apiKey=\" + apikey\n",
    "    whitelist_required = requests.get(proj_url).json()[\"finance\"][\"whitelist_required\"]\n",
    "    kyc_required = requests.get(proj_url).json()[\"finance\"][\"kyc_required\"]\n",
    "    restricted_countries = requests.get(proj_url).json()[\"finance\"][\"restricted_countries\"]\n",
    "    return(whitelist_required, kyc_required, restricted_countries)\n",
    "    \n",
    "def getInterests(slug):\n",
    "    proj_url = url + slug + \"/?apiKey=\" + apikey    \n",
    "    alexa_global_rank = requests.get(proj_url).json()[\"interest\"][\"alexa_global_rank\"]\n",
    "    twitter_participants = requests.get(proj_url).json()[\"interest\"][\"twitter_participants\"]\n",
    "    telegram_members = requests.get(proj_url).json()[\"interest\"][\"telegram_members\"]\n",
    "    video_views = requests.get(proj_url).json()[\"interest\"][\"video_views\"]\n",
    "    return(alexa_global_rank, twitter_participants, telegram_members, video_views)\n",
    "\n",
    "def getPrice(slug):\n",
    "    list_url = \"https://api.coinmarketcap.com/v2/listings/\"\n",
    "    ticker = getInfo(slug)[1]\n",
    "    price_data = requests.get(list_url).json()[\"data\"]\n",
    "    for i in range(len(price_data)-1):\n",
    "        if price_data[i]['symbol'] == ticker: idx = price_data[i]['id']\n",
    "    proj_url = \"https://api.coinmarketcap.com/v2/ticker/\" + str(idx)\n",
    "    price = requests.get(proj_url).json()[\"data\"][\"quotes\"][\"price\"] # can get circ/total/max supplies if needed\n",
    "    return(price)\n",
    "print(getInfo('red-pulse'))\n",
    "print(getInterests('red-pulse'))\n",
    "\n",
    "#df = pd.DataFrame(columns = list(['title','slug','ticker','ico_type','platform','accepted_currencies','country','category','rating','token_for_sale','token_supply','soft_cap','soft_cap_currency','hard_cap','hard_cap_currency','token_price_in_usd','total_raised_in_usd','bonus_available','whitelist_required','kyc_required','restricted_countries','alexa_global_rank','twitter_participants','telegram_members','video_views']))\n",
    "\n",
    "#df = pd.DataFrame(columns = list(['title','slug','ticker','ico_type','platform','accepted_currencies','country','category','rating','token_for_sale','token_supply','soft_cap','soft_cap_currency','hard_cap','hard_cap_currency','token_price_in_usd','total_raised_in_usd','bonus_available','whitelist_required','kyc_required','restricted_countries','alexa_global_rank','twitter_participants','telegram_members','video_views']))\n",
    "#df_y = pd.DataFrame(colums = list(['current_price', 'ROI']))\n",
    "\n",
    "#for slug in slugs:\n",
    "#    df = df.append({'title': getInfo(slug)[0], 'slug': getInfo(slug)[1], 'ticker': getInfo(slug)[2], 'ico_type': getInfo(slug)[3], 'platform': getInfo(slug)[4], 'accepted_currencies': getInfo(slug)[5], 'country': getInfo(slug)[6], 'category': getInfo(slug)[7], 'rating': getInfo(slug)[8], 'token_for_sale': getFinances(slug)[0], 'token_supply': getFinances(slug)[1], 'soft_cap': getFinances(slug)[2], 'soft_cap_currency': getFinances(slug)[3], 'hard_cap': getFinances(slug)[4], 'hard_cap_currency': getFinances(slug)[5], 'token_price_in_usd': getFinances(slug)[6], 'total_raised_in_usd': getFinances(slug)[7], 'bonus_available': getFinances(slug)[8], 'whitelist_required': getLegal(slug)[0], 'kyc_required': getLegal(slug)[1], 'restricted_countries': getLegal(slug)[2], 'alexa_global_rank': getInterests(slug)[0], 'twitter_participants': getInterests(slug)[1], 'telegram_members': getInterests(slug)[2], 'video_views': getInterests(slug)[3]}, ignore_index=True)\n",
    "    #df_y = df.append({'current_price': getPrice(slug), 'ROI': getPrice(slug)/getFinances(slug)[6]}, ignore_index=True)\n",
    "#df.head()\n",
    "#df_y.head()\n",
    "#df.to_csv('data_masterlist.csv')"
   ]
  },
  {
   "cell_type": "code",
   "execution_count": 56,
   "metadata": {},
   "outputs": [
    {
     "name": "stdout",
     "output_type": "stream",
     "text": [
      "<type 'int'>\n"
     ]
    },
    {
     "data": {
      "text/html": [
       "<div>\n",
       "<style>\n",
       "    .dataframe thead tr:only-child th {\n",
       "        text-align: right;\n",
       "    }\n",
       "\n",
       "    .dataframe thead th {\n",
       "        text-align: left;\n",
       "    }\n",
       "\n",
       "    .dataframe tbody tr th {\n",
       "        vertical-align: top;\n",
       "    }\n",
       "</style>\n",
       "<table border=\"1\" class=\"dataframe\">\n",
       "  <thead>\n",
       "    <tr style=\"text-align: right;\">\n",
       "      <th></th>\n",
       "      <th>title</th>\n",
       "      <th>slug</th>\n",
       "      <th>ticker</th>\n",
       "    </tr>\n",
       "  </thead>\n",
       "  <tbody>\n",
       "    <tr>\n",
       "      <th>0</th>\n",
       "      <td>0</td>\n",
       "      <td>0</td>\n",
       "      <td>0</td>\n",
       "    </tr>\n",
       "    <tr>\n",
       "      <th>1</th>\n",
       "      <td>1</td>\n",
       "      <td>1</td>\n",
       "      <td>1</td>\n",
       "    </tr>\n",
       "    <tr>\n",
       "      <th>2</th>\n",
       "      <td>2</td>\n",
       "      <td>2</td>\n",
       "      <td>2</td>\n",
       "    </tr>\n",
       "    <tr>\n",
       "      <th>3</th>\n",
       "      <td>3</td>\n",
       "      <td>3</td>\n",
       "      <td>3</td>\n",
       "    </tr>\n",
       "    <tr>\n",
       "      <th>4</th>\n",
       "      <td>4</td>\n",
       "      <td>4</td>\n",
       "      <td>4</td>\n",
       "    </tr>\n",
       "  </tbody>\n",
       "</table>\n",
       "</div>"
      ],
      "text/plain": [
       "  title slug ticker\n",
       "0     0    0      0\n",
       "1     1    1      1\n",
       "2     2    2      2\n",
       "3     3    3      3\n",
       "4     4    4      4"
      ]
     },
     "execution_count": 56,
     "metadata": {},
     "output_type": "execute_result"
    }
   ],
   "source": [
    "df = pd.DataFrame(columns = list(['title','slug','ticker']))\n",
    "df.head()\n",
    "for i in range(5):\n",
    "    df = df.append({'title': str(i), 'slug': str(i), 'ticker': str(i)}, ignore_index=True)\n",
    "df.head()\n",
    "#for i in range(1):\n",
    "#    df = pd.DataFrame([getData('aphelion'), getData('aphelion'), getData('aphelion'), getData('aphelion')], columns = list(['title','slug','ticker','ico_type']))\n",
    "#df.head()"
   ]
  },
  {
   "cell_type": "code",
   "execution_count": 20,
   "metadata": {},
   "outputs": [
    {
     "data": {
      "text/html": [
       "<div>\n",
       "<style scoped>\n",
       "    .dataframe tbody tr th:only-of-type {\n",
       "        vertical-align: middle;\n",
       "    }\n",
       "\n",
       "    .dataframe tbody tr th {\n",
       "        vertical-align: top;\n",
       "    }\n",
       "\n",
       "    .dataframe thead th {\n",
       "        text-align: right;\n",
       "    }\n",
       "</style>\n",
       "<table border=\"1\" class=\"dataframe\">\n",
       "  <thead>\n",
       "    <tr style=\"text-align: right;\">\n",
       "      <th></th>\n",
       "      <th>test1</th>\n",
       "      <th>test2</th>\n",
       "    </tr>\n",
       "  </thead>\n",
       "  <tbody>\n",
       "  </tbody>\n",
       "</table>\n",
       "</div>"
      ],
      "text/plain": [
       "Empty DataFrame\n",
       "Columns: [test1, test2]\n",
       "Index: []"
      ]
     },
     "execution_count": 20,
     "metadata": {},
     "output_type": "execute_result"
    }
   ],
   "source": []
  },
  {
   "cell_type": "code",
   "execution_count": 34,
   "metadata": {},
   "outputs": [
    {
     "name": "stdout",
     "output_type": "stream",
     "text": [
      "['0']\n",
      "['0', '1']\n",
      "['0', '1', '2']\n",
      "['0', '1', '2', '3']\n"
     ]
    }
   ],
   "source": [
    "a = []\n",
    "for i in range(4):\n",
    "    a.append(str(i))\n",
    "    print(a)"
   ]
  },
  {
   "cell_type": "code",
   "execution_count": 5,
   "metadata": {
    "collapsed": true
   },
   "outputs": [],
   "source": [
    "\n",
    "#    print(response.json()[\"title\"])\n",
    "#    print(response.json()[\"slug\"])\n",
    "#    print(response.json()[\"ticker\"])\n",
    "#    print(response.json()[\"ico_type\"])\n",
    "#    print(response.json()[\"url\"])\n",
    "#    print(response.json()[\"description\"])\n",
    "#    print(response.json()[\"pre_ico_start\"])\n",
    "#    print(response.json()[\"pre_ico_end\"])\n",
    "#    print(response.json()[\"ico_start\"])\n",
    "#    print(response.json()[\"ico_end\"])\n",
    "#    print(response.json()[\"platform\"])\n",
    "#    print(response.json()[\"country\"])\n",
    "#    print(response.json()[\"category\"])\n",
    "#    print(response.json()[\"rating\"])\n",
    "#    print(response.json()[\"links\"][\"bitcointalk\"])    \n",
    "#    print(response.json()[\"finance\"][\"token_for_sale\"])\n",
    "#    print(response.json()[\"finance\"][\"token_supply\"])\n",
    "#    print(response.json()[\"finance\"][\"soft_cap\"])\n",
    "#    print(response.json()[\"finance\"][\"soft_cap_currency\"])\n",
    "#    print(response.json()[\"finance\"][\"hard_cap\"])\n",
    "#    print(response.json()[\"finance\"][\"hard_cap_currency\"])\n",
    "#    print(response.json()[\"finance\"][\"token_price_in_usd\"])\n",
    "#    print(response.json()[\"finance\"][\"total_raised_in_usd\"])\n",
    "#    print(response.json()[\"finance\"][\"whitelist_required\"])\n",
    "#    print(response.json()[\"finance\"][\"bonus_available\"])\n",
    "#    print(response.json()[\"finance\"][\"kyc_required\"])\n",
    "#    print(response.json()[\"finance\"][\"accepted_currencies\"])\n",
    "#    print(response.json()[\"finance\"][\"restricted_countries\"])\n",
    "#    print(response.json()[\"interest\"][\"alexa_global_rank\"])\n",
    "#    print(response.json()[\"interest\"][\"twitter_participants\"])\n",
    "#    print(response.json()[\"interest\"][\"telegram_members\"])\n",
    "#    print(response.json()[\"interest\"][\"video_views\"])\n",
    "#    try:\n",
    "#        print(response.json()[\"market\"][\"price_usd\"])\n",
    "#        print(response.json()[\"market\"][\"available_supply_usd\"])\n",
    "#        print(response.json()[\"market\"][\"roi_percent\"])\n",
    "#    except:\n",
    "#        print('null')\n"
   ]
  },
  {
   "cell_type": "code",
   "execution_count": null,
   "metadata": {
    "collapsed": true
   },
   "outputs": [],
   "source": []
  }
 ],
 "metadata": {
  "kernelspec": {
   "display_name": "Python 2",
   "language": "python",
   "name": "python2"
  },
  "language_info": {
   "codemirror_mode": {
    "name": "ipython",
    "version": 2
   },
   "file_extension": ".py",
   "mimetype": "text/x-python",
   "name": "python",
   "nbconvert_exporter": "python",
   "pygments_lexer": "ipython2",
   "version": "2.7.13"
  }
 },
 "nbformat": 4,
 "nbformat_minor": 2
}
