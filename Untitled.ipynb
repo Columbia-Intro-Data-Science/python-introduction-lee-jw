{
 "cells": [
  {
   "cell_type": "code",
   "execution_count": 1,
   "metadata": {
    "collapsed": true
   },
   "outputs": [],
   "source": [
    "import pandas as pd\n",
    "import requests"
   ]
  },
  {
   "cell_type": "code",
   "execution_count": 53,
   "metadata": {},
   "outputs": [],
   "source": [
    "df1 = pd.read_csv('https://raw.githubusercontent.com/Columbia-Intro-Data-Science/python-introduction-lee-jw/master/data.csv')\n",
    "apikey = \"INSERT API KEY\"\n",
    "url = \"https://api.trackico.io/v1/icos/profile/\"\n",
    "slugs = df1['slug']\n",
    "#df = pd.DataFrame(columns = list(['title','slug','ticker','ico_type','url','pre_ico_start','pre_ico_end','ico_start','ico_end','platform','country','category','rating']))\n",
    "\n",
    "def getInfo(slug):\n",
    "    proj_url = url + slug + \"/?apiKey=\" + apikey\n",
    "    title = requests.get(proj_url).json()[\"title\"]\n",
    "    slug = requests.get(proj_url).json()[\"slug\"]\n",
    "    ticker = requests.get(proj_url).json()[\"ticker\"]\n",
    "    ico_type = requests.get(proj_url).json()[\"ico_type\"]\n",
    "    platform = requests.get(proj_url).json()[\"platform\"]\n",
    "    accepted_currencies = requests.get(proj_url).json()[\"finance\"][\"accepted_currencies\"]\n",
    "    country = requests.get(proj_url).json()[\"country\"]\n",
    "    category = requests.get(proj_url).json()[\"category\"]\n",
    "    rating = requests.get(proj_url).json()[\"rating\"]\n",
    "    return(title, slug, ticker, ico_type, platform, accepted_currencies, country, category, rating)\n",
    "\n",
    "def getMisc(slug):\n",
    "    proj_url = url + slug + \"/?apiKey=\" + apikey    \n",
    "    web_url = requests.get(proj_url).json()[\"url\"]\n",
    "    description = requests.get(proj_url).json()[\"description\"]\n",
    "    link_bitcointalk = requests.get(proj_url).json()[\"links\"][\"bitcointalk\"]    \n",
    "    return(web_url, description, link_bitcointalk)\n",
    "    \n",
    "def getDates(slug):\n",
    "    proj_url = url + slug + \"/?apiKey=\" + apikey\n",
    "    pre_ico_start = requests.get(proj_url).json()[\"pre_ico_start\"]\n",
    "    pre_ico_end = requests.get(proj_url).json()[\"pre_ico_end\"]\n",
    "    ico_start = requests.get(proj_url).json()[\"ico_start\"]\n",
    "    ico_end = requests.get(proj_url).json()[\"ico_end\"]\n",
    "    return(pre_ico_start, pre_ico_end, ico_start, ico_end)\n",
    "    \n",
    "def getFinances(slug):\n",
    "    proj_url = url + slug + \"/?apiKey=\" + apikey\n",
    "    token_for_sale = requests.get(proj_url).json()[\"finance\"][\"token_for_sale\"]\n",
    "    token_supply = requests.get(proj_url).json()[\"finance\"][\"token_supply\"]\n",
    "    soft_cap = requests.get(proj_url).json()[\"finance\"][\"soft_cap\"]\n",
    "    soft_cap_currency = requests.get(proj_url).json()[\"finance\"][\"soft_cap_currency\"]\n",
    "    hard_cap = requests.get(proj_url).json()[\"finance\"][\"hard_cap\"]\n",
    "    hard_cap_currency = requests.get(proj_url).json()[\"finance\"][\"hard_cap_currency\"]\n",
    "    token_price_in_usd = requests.get(proj_url).json()[\"finance\"][\"token_price_in_usd\"]\n",
    "    total_raised_in_usd = requests.get(proj_url).json()[\"finance\"][\"total_raised_in_usd\"]\n",
    "    bonus_available = requests.get(proj_url).json()[\"finance\"][\"bonus_available\"]\n",
    "    return(token_for_sale, token_supply, soft_cap, soft_cap_currency, hard_cap, hard_cap_currency, token_price_in_usd, total_raised_in_usd, bonus_available)\n",
    "\n",
    "def getLegal(slug):\n",
    "    proj_url = url + slug + \"/?apiKey=\" + apikey\n",
    "    whitelist_required = requests.get(proj_url).json()[\"finance\"][\"whitelist_required\"]\n",
    "    kyc_required = requests.get(proj_url).json()[\"finance\"][\"kyc_required\"]\n",
    "    restricted_countries = requests.get(proj_url).json()[\"finance\"][\"restricted_countries\"]\n",
    "    return(whitelist_required, kyc_required, restricted_countries)\n",
    "    \n",
    "def getInterests(slug):\n",
    "    proj_url = url + slug + \"/?apiKey=\" + apikey    \n",
    "    alexa_global_rank = requests.get(proj_url).json()[\"interest\"][\"alexa_global_rank\"]\n",
    "    twitter_participants = requests.get(proj_url).json()[\"interest\"][\"twitter_participants\"]\n",
    "    telegram_members = requests.get(proj_url).json()[\"interest\"][\"telegram_members\"]\n",
    "    video_views = requests.get(proj_url).json()[\"interest\"][\"video_views\"]\n",
    "    return(alexa_global_rank, twitter_participants, telegram_members, video_views)\n",
    "\n",
    "\n",
    "#df.head()"
   ]
  },
  {
   "cell_type": "code",
   "execution_count": 56,
   "metadata": {},
   "outputs": [
    {
     "name": "stdout",
     "output_type": "stream",
     "text": [
      "<type 'int'>\n"
     ]
    },
    {
     "data": {
      "text/html": [
       "<div>\n",
       "<style>\n",
       "    .dataframe thead tr:only-child th {\n",
       "        text-align: right;\n",
       "    }\n",
       "\n",
       "    .dataframe thead th {\n",
       "        text-align: left;\n",
       "    }\n",
       "\n",
       "    .dataframe tbody tr th {\n",
       "        vertical-align: top;\n",
       "    }\n",
       "</style>\n",
       "<table border=\"1\" class=\"dataframe\">\n",
       "  <thead>\n",
       "    <tr style=\"text-align: right;\">\n",
       "      <th></th>\n",
       "      <th>title</th>\n",
       "      <th>slug</th>\n",
       "      <th>ticker</th>\n",
       "    </tr>\n",
       "  </thead>\n",
       "  <tbody>\n",
       "    <tr>\n",
       "      <th>0</th>\n",
       "      <td>0</td>\n",
       "      <td>0</td>\n",
       "      <td>0</td>\n",
       "    </tr>\n",
       "    <tr>\n",
       "      <th>1</th>\n",
       "      <td>1</td>\n",
       "      <td>1</td>\n",
       "      <td>1</td>\n",
       "    </tr>\n",
       "    <tr>\n",
       "      <th>2</th>\n",
       "      <td>2</td>\n",
       "      <td>2</td>\n",
       "      <td>2</td>\n",
       "    </tr>\n",
       "    <tr>\n",
       "      <th>3</th>\n",
       "      <td>3</td>\n",
       "      <td>3</td>\n",
       "      <td>3</td>\n",
       "    </tr>\n",
       "    <tr>\n",
       "      <th>4</th>\n",
       "      <td>4</td>\n",
       "      <td>4</td>\n",
       "      <td>4</td>\n",
       "    </tr>\n",
       "  </tbody>\n",
       "</table>\n",
       "</div>"
      ],
      "text/plain": [
       "  title slug ticker\n",
       "0     0    0      0\n",
       "1     1    1      1\n",
       "2     2    2      2\n",
       "3     3    3      3\n",
       "4     4    4      4"
      ]
     },
     "execution_count": 56,
     "metadata": {},
     "output_type": "execute_result"
    }
   ],
   "source": [
    "df = pd.DataFrame(columns = list(['title','slug','ticker']))\n",
    "df.head()\n",
    "for i in range(5):\n",
    "    df = df.append({'title': str(i), 'slug': str(i), 'ticker': str(i)}, ignore_index=True)\n",
    "df.head()\n",
    "#for i in range(1):\n",
    "#    df = pd.DataFrame([getData('aphelion'), getData('aphelion'), getData('aphelion'), getData('aphelion')], columns = list(['title','slug','ticker','ico_type']))\n",
    "#df.head()"
   ]
  },
  {
   "cell_type": "code",
   "execution_count": 20,
   "metadata": {},
   "outputs": [
    {
     "data": {
      "text/html": [
       "<div>\n",
       "<style scoped>\n",
       "    .dataframe tbody tr th:only-of-type {\n",
       "        vertical-align: middle;\n",
       "    }\n",
       "\n",
       "    .dataframe tbody tr th {\n",
       "        vertical-align: top;\n",
       "    }\n",
       "\n",
       "    .dataframe thead th {\n",
       "        text-align: right;\n",
       "    }\n",
       "</style>\n",
       "<table border=\"1\" class=\"dataframe\">\n",
       "  <thead>\n",
       "    <tr style=\"text-align: right;\">\n",
       "      <th></th>\n",
       "      <th>test1</th>\n",
       "      <th>test2</th>\n",
       "    </tr>\n",
       "  </thead>\n",
       "  <tbody>\n",
       "  </tbody>\n",
       "</table>\n",
       "</div>"
      ],
      "text/plain": [
       "Empty DataFrame\n",
       "Columns: [test1, test2]\n",
       "Index: []"
      ]
     },
     "execution_count": 20,
     "metadata": {},
     "output_type": "execute_result"
    }
   ],
   "source": []
  },
  {
   "cell_type": "code",
   "execution_count": 34,
   "metadata": {},
   "outputs": [
    {
     "name": "stdout",
     "output_type": "stream",
     "text": [
      "['0']\n",
      "['0', '1']\n",
      "['0', '1', '2']\n",
      "['0', '1', '2', '3']\n"
     ]
    }
   ],
   "source": [
    "a = []\n",
    "for i in range(4):\n",
    "    a.append(str(i))\n",
    "    print(a)"
   ]
  },
  {
   "cell_type": "code",
   "execution_count": 5,
   "metadata": {
    "collapsed": true
   },
   "outputs": [],
   "source": [
    "\n",
    "#    print(response.json()[\"title\"])\n",
    "#    print(response.json()[\"slug\"])\n",
    "#    print(response.json()[\"ticker\"])\n",
    "#    print(response.json()[\"ico_type\"])\n",
    "#    print(response.json()[\"url\"])\n",
    "#    print(response.json()[\"description\"])\n",
    "#    print(response.json()[\"pre_ico_start\"])\n",
    "#    print(response.json()[\"pre_ico_end\"])\n",
    "#    print(response.json()[\"ico_start\"])\n",
    "#    print(response.json()[\"ico_end\"])\n",
    "#    print(response.json()[\"platform\"])\n",
    "#    print(response.json()[\"country\"])\n",
    "#    print(response.json()[\"category\"])\n",
    "#    print(response.json()[\"rating\"])\n",
    "#    print(response.json()[\"links\"][\"bitcointalk\"])    \n",
    "#    print(response.json()[\"finance\"][\"token_for_sale\"])\n",
    "#    print(response.json()[\"finance\"][\"token_supply\"])\n",
    "#    print(response.json()[\"finance\"][\"soft_cap\"])\n",
    "#    print(response.json()[\"finance\"][\"soft_cap_currency\"])\n",
    "#    print(response.json()[\"finance\"][\"hard_cap\"])\n",
    "#    print(response.json()[\"finance\"][\"hard_cap_currency\"])\n",
    "#    print(response.json()[\"finance\"][\"token_price_in_usd\"])\n",
    "#    print(response.json()[\"finance\"][\"total_raised_in_usd\"])\n",
    "#    print(response.json()[\"finance\"][\"whitelist_required\"])\n",
    "#    print(response.json()[\"finance\"][\"bonus_available\"])\n",
    "#    print(response.json()[\"finance\"][\"kyc_required\"])\n",
    "#    print(response.json()[\"finance\"][\"accepted_currencies\"])\n",
    "#    print(response.json()[\"finance\"][\"restricted_countries\"])\n",
    "#    print(response.json()[\"interest\"][\"alexa_global_rank\"])\n",
    "#    print(response.json()[\"interest\"][\"twitter_participants\"])\n",
    "#    print(response.json()[\"interest\"][\"telegram_members\"])\n",
    "#    print(response.json()[\"interest\"][\"video_views\"])\n",
    "#    try:\n",
    "#        print(response.json()[\"market\"][\"price_usd\"])\n",
    "#        print(response.json()[\"market\"][\"available_supply_usd\"])\n",
    "#        print(response.json()[\"market\"][\"roi_percent\"])\n",
    "#    except:\n",
    "#        print('null')\n"
   ]
  },
  {
   "cell_type": "code",
   "execution_count": null,
   "metadata": {
    "collapsed": true
   },
   "outputs": [],
   "source": []
  }
 ],
 "metadata": {
  "kernelspec": {
   "display_name": "Python 2",
   "language": "python",
   "name": "python2"
  },
  "language_info": {
   "codemirror_mode": {
    "name": "ipython",
    "version": 2
   },
   "file_extension": ".py",
   "mimetype": "text/x-python",
   "name": "python",
   "nbconvert_exporter": "python",
   "pygments_lexer": "ipython2",
   "version": "2.7.13"
  }
 },
 "nbformat": 4,
 "nbformat_minor": 2
}
